CarName
toyota corona           6
toyota corolla          6
peugeot 504             6
subaru dl               4
mitsubishi mirage g4    3
                       ..
mazda glc 4             1
mazda rx2 coupe         1
maxda glc deluxe        1
maxda rx3               1
volvo 246               1
Name: CarName, Length: 147, dtype: int64


fueltype
gas       185
diesel     20
Name: fueltype, dtype: int64


aspiration
std      168
turbo     37
Name: aspiration, dtype: int64


doornumber
four    115
two      90
Name: doornumber, dtype: int64


carbody
sedan          96
hatchback      70
wagon          25
hardtop         8
convertible     6
Name: carbody, dtype: int64


drivewheel
fwd    120
rwd     76
4wd      9
Name: drivewheel, dtype: int64


enginelocation
front    202
rear       3
Name: enginelocation, dtype: int64


enginetype
ohc      148
ohcf      15
ohcv      13
dohc      12
l         12
rotor      4
dohcv      1
Name: enginetype, dtype: int64


cylindernumber
four      159
six        24
five       11
eight       5
two         4
three       1
twelve      1
Name: cylindernumber, dtype: int64


fuelsystem
mpfi    94
2bbl    66
idi     20
1bbl    11
spdi     9
4bbl     3
mfi      1
spfi     1
Name: fuelsystem, dtype: int64


